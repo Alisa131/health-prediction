{
  "nbformat": 4,
  "nbformat_minor": 0,
  "metadata": {
    "colab": {
      "provenance": []
    },
    "kernelspec": {
      "name": "python3",
      "display_name": "Python 3"
    },
    "language_info": {
      "name": "python"
    }
  },
  "cells": [
    {
      "cell_type": "code",
      "execution_count": 1,
      "metadata": {
        "id": "YcfgH3YKZjRB"
      },
      "outputs": [],
      "source": [
        "import pandas as pd"
      ]
    },
    {
      "cell_type": "code",
      "source": [
        "health_data = pd.read_csv(\"alisa.csv\", header=0,sep=\",\")"
      ],
      "metadata": {
        "id": "RaPx0HCVXiaj"
      },
      "execution_count": 10,
      "outputs": []
    },
    {
      "cell_type": "code",
      "source": [
        "health_data.dropna(axis=0,inplace=True)"
      ],
      "metadata": {
        "id": "46rJZOr2Z8Zb"
      },
      "execution_count": 11,
      "outputs": []
    },
    {
      "cell_type": "code",
      "source": [
        "print(health_data)"
      ],
      "metadata": {
        "colab": {
          "base_uri": "https://localhost:8080/"
        },
        "id": "o4W0FxkMaBXT",
        "outputId": "6df1685b-7d4f-4384-8d7e-113113b76f51"
      },
      "execution_count": 12,
      "outputs": [
        {
          "output_type": "stream",
          "name": "stdout",
          "text": [
            "   Duration  Average_Pulse  Max_Pulse  Calorie_Burnage  Hours_Work  \\\n",
            "0        30             80        120              240          10   \n",
            "1        30             85        120              250          10   \n",
            "2        45             90        130              260           8   \n",
            "3        45             95        130              270           8   \n",
            "4        45            100        140              280           0   \n",
            "5        60            105        140              290           7   \n",
            "6        60            110        145              300           7   \n",
            "7        60            115        145              310           8   \n",
            "8        75            120        150              320           0   \n",
            "9        75            125        150              330           8   \n",
            "\n",
            "   Hours_Sleep  \n",
            "0            7  \n",
            "1            7  \n",
            "2            7  \n",
            "3            7  \n",
            "4            7  \n",
            "5            8  \n",
            "6            8  \n",
            "7            8  \n",
            "8            8  \n",
            "9            8  \n"
          ]
        }
      ]
    },
    {
      "cell_type": "code",
      "source": [
        "health_data[\"Average_Pulse\"]=health_data[\"Average_Pulse\"].astype(float)\n",
        "health_data[\"Max_Pulse\"]=health_data[\"Max_Pulse\"].astype(float)\n",
        "print(health_data.info())"
      ],
      "metadata": {
        "colab": {
          "base_uri": "https://localhost:8080/"
        },
        "id": "DMbzJNmsaORy",
        "outputId": "35a47e82-3a79-4846-852d-2f99fd5a0bf8"
      },
      "execution_count": 13,
      "outputs": [
        {
          "output_type": "stream",
          "name": "stdout",
          "text": [
            "<class 'pandas.core.frame.DataFrame'>\n",
            "RangeIndex: 10 entries, 0 to 9\n",
            "Data columns (total 6 columns):\n",
            " #   Column           Non-Null Count  Dtype  \n",
            "---  ------           --------------  -----  \n",
            " 0   Duration         10 non-null     int64  \n",
            " 1   Average_Pulse    10 non-null     float64\n",
            " 2   Max_Pulse        10 non-null     float64\n",
            " 3   Calorie_Burnage  10 non-null     int64  \n",
            " 4   Hours_Work       10 non-null     int64  \n",
            " 5   Hours_Sleep      10 non-null     int64  \n",
            "dtypes: float64(2), int64(4)\n",
            "memory usage: 608.0 bytes\n",
            "None\n"
          ]
        }
      ]
    },
    {
      "cell_type": "code",
      "source": [
        "print(health_data.describe())"
      ],
      "metadata": {
        "colab": {
          "base_uri": "https://localhost:8080/"
        },
        "id": "LW5yItHMaQ-u",
        "outputId": "1259613d-bd4a-4846-f375-6fcff3c0fb61"
      },
      "execution_count": 14,
      "outputs": [
        {
          "output_type": "stream",
          "name": "stdout",
          "text": [
            "        Duration  Average_Pulse   Max_Pulse  Calorie_Burnage  Hours_Work  \\\n",
            "count  10.000000      10.000000   10.000000        10.000000   10.000000   \n",
            "mean   52.500000     102.500000  137.000000       285.000000    6.600000   \n",
            "std    16.201852      15.138252   11.352924        30.276504    3.627059   \n",
            "min    30.000000      80.000000  120.000000       240.000000    0.000000   \n",
            "25%    45.000000      91.250000  130.000000       262.500000    7.000000   \n",
            "50%    52.500000     102.500000  140.000000       285.000000    8.000000   \n",
            "75%    60.000000     113.750000  145.000000       307.500000    8.000000   \n",
            "max    75.000000     125.000000  150.000000       330.000000   10.000000   \n",
            "\n",
            "       Hours_Sleep  \n",
            "count    10.000000  \n",
            "mean      7.500000  \n",
            "std       0.527046  \n",
            "min       7.000000  \n",
            "25%       7.000000  \n",
            "50%       7.500000  \n",
            "75%       8.000000  \n",
            "max       8.000000  \n"
          ]
        }
      ]
    },
    {
      "cell_type": "code",
      "source": [
        "!pip install pandas\n",
        "import matplotlib.pyplot as plt\n",
        "import pandas as pd\n",
        "\n",
        "health_data = pd.read_csv(\"alisa.csv\", header=0,sep=\",\")\n",
        "health_data.plot(x='Average_Pulse', y='Calorie_Burnage', kind='line')\n",
        "plt.ylim(ymin=0)\n",
        "plt.xlim(xmin=0)\n",
        "plt.show()\n",
        "plt.savefig(\"ly_plot.png\")"
      ],
      "metadata": {
        "colab": {
          "base_uri": "https://localhost:8080/",
          "height": 592
        },
        "id": "VAPOR1qoaZe5",
        "outputId": "7617730b-9150-4be2-d9ba-4010b6809cf4"
      },
      "execution_count": 15,
      "outputs": [
        {
          "output_type": "stream",
          "name": "stdout",
          "text": [
            "Requirement already satisfied: pandas in /usr/local/lib/python3.10/dist-packages (2.0.3)\n",
            "Requirement already satisfied: python-dateutil>=2.8.2 in /usr/local/lib/python3.10/dist-packages (from pandas) (2.8.2)\n",
            "Requirement already satisfied: pytz>=2020.1 in /usr/local/lib/python3.10/dist-packages (from pandas) (2023.4)\n",
            "Requirement already satisfied: tzdata>=2022.1 in /usr/local/lib/python3.10/dist-packages (from pandas) (2024.1)\n",
            "Requirement already satisfied: numpy>=1.21.0 in /usr/local/lib/python3.10/dist-packages (from pandas) (1.25.2)\n",
            "Requirement already satisfied: six>=1.5 in /usr/local/lib/python3.10/dist-packages (from python-dateutil>=2.8.2->pandas) (1.16.0)\n"
          ]
        },
        {
          "output_type": "display_data",
          "data": {
            "text/plain": [
              "<Figure size 640x480 with 1 Axes>"
            ],
            "image/png": "[encoded data removed]"
          },
          "metadata": {}
        },
        {
          "output_type": "display_data",
          "data": {
            "text/plain": [
              "<Figure size 640x480 with 0 Axes>"
            ]
          },
          "metadata": {}
        }
      ]
    },
    {
      "cell_type": "code",
      "source": [
        "def slope(x1, y1, x2, y2):\n",
        "  s = (y2-y1)/(x2-x1)\n",
        "  return s\n",
        "\n",
        "print (slope(80,240,90,260))"
      ],
      "metadata": {
        "colab": {
          "base_uri": "https://localhost:8080/"
        },
        "id": "BSvHJbDUeCRI",
        "outputId": "293c1cbc-5383-46ef-99ba-7ba20d3d0262"
      },
      "execution_count": 16,
      "outputs": [
        {
          "output_type": "stream",
          "name": "stdout",
          "text": [
            "2.0\n"
          ]
        }
      ]
    },
    {
      "cell_type": "code",
      "source": [
        "import pandas as pd"
      ],
      "metadata": {
        "id": "IZxZx171fHRZ"
      },
      "execution_count": 17,
      "outputs": []
    },
    {
      "cell_type": "code",
      "source": [
        "import numpy as np"
      ],
      "metadata": {
        "id": "x3Ku360nfMGD"
      },
      "execution_count": 18,
      "outputs": []
    },
    {
      "cell_type": "code",
      "source": [
        "x=health_data[\"Average_Pulse\"]\n",
        "y=health_data[\"Calorie_Burnage\"]\n",
        "slope_intercept= np.polyfit(x,y,1)\n",
        "print(slope_intercept)"
      ],
      "metadata": {
        "colab": {
          "base_uri": "https://localhost:8080/"
        },
        "id": "LF2aKIiifPKZ",
        "outputId": "966b4d70-0a68-43fc-b20b-8b787657624d"
      },
      "execution_count": 20,
      "outputs": [
        {
          "output_type": "stream",
          "name": "stdout",
          "text": [
            "[ 2. 80.]\n"
          ]
        }
      ]
    },
    {
      "cell_type": "code",
      "source": [
        "def my_function(x):\n",
        "    return 2*x + 80\n",
        "    print(my_function(135))\n",
        ""
      ],
      "metadata": {
        "id": "Htp0fHBAf_bR"
      },
      "execution_count": 27,
      "outputs": []
    },
    {
      "cell_type": "code",
      "source": [
        "!pip install pandas\n",
        "import matplotlib.pyplot as plt\n",
        "import pandas as pd\n",
        "\n",
        "health_data = pd.read_csv(\"alisa.csv\", header=0,sep=\",\")\n",
        "health_data.plot(x='Average_Pulse', y='Calorie_Burnage', kind='line')\n",
        "plt.ylim(ymin=0, ymax=400)\n",
        "plt.xlim(xmin=0, xmax=150)\n",
        "plt.show()\n",
        "plt.savefig(\"vy_plot.png\")"
      ],
      "metadata": {
        "colab": {
          "base_uri": "https://localhost:8080/",
          "height": 597
        },
        "id": "OWSty2Qqhgq_",
        "outputId": "31e6ea17-1998-4faf-f8af-729f3fb77fae"
      },
      "execution_count": 29,
      "outputs": [
        {
          "output_type": "stream",
          "name": "stdout",
          "text": [
            "Requirement already satisfied: pandas in /usr/local/lib/python3.10/dist-packages (2.0.3)\n",
            "Requirement already satisfied: python-dateutil>=2.8.2 in /usr/local/lib/python3.10/dist-packages (from pandas) (2.8.2)\n",
            "Requirement already satisfied: pytz>=2020.1 in /usr/local/lib/python3.10/dist-packages (from pandas) (2023.4)\n",
            "Requirement already satisfied: tzdata>=2022.1 in /usr/local/lib/python3.10/dist-packages (from pandas) (2024.1)\n",
            "Requirement already satisfied: numpy>=1.21.0 in /usr/local/lib/python3.10/dist-packages (from pandas) (1.25.2)\n",
            "Requirement already satisfied: six>=1.5 in /usr/local/lib/python3.10/dist-packages (from python-dateutil>=2.8.2->pandas) (1.16.0)\n"
          ]
        },
        {
          "output_type": "display_data",
          "data": {
            "text/plain": [
              "<Figure size 640x480 with 1 Axes>"
            ],
            "image/png": "[encoded data removed]"
          },
          "metadata": {}
        },
        {
          "output_type": "display_data",
          "data": {
            "text/plain": [
              "<Figure size 640x480 with 0 Axes>"
            ]
          },
          "metadata": {}
        }
      ]
    },
    {
      "cell_type": "code",
      "source": [
        "import pandas as pd"
      ],
      "metadata": {
        "id": "o91zYiWL4mpf"
      },
      "execution_count": 8,
      "outputs": []
    },
    {
      "cell_type": "code",
      "source": [
        "health_data= pd.read_csv(\"alisa.csv\", header=0,sep=\",\")"
      ],
      "metadata": {
        "id": "dKKJqWMt4PkQ"
      },
      "execution_count": 9,
      "outputs": []
    },
    {
      "cell_type": "code",
      "source": [
        "print(health_data.describe())"
      ],
      "metadata": {
        "colab": {
          "base_uri": "https://localhost:8080/"
        },
        "id": "Oprol5w-3Yni",
        "outputId": "a6d2bdd7-1fd9-45b6-f25d-ac852d93659f"
      },
      "execution_count": 10,
      "outputs": [
        {
          "output_type": "stream",
          "name": "stdout",
          "text": [
            "        Duration  Average_Pulse   Max_Pulse  Calorie_Burnage  Hours_Work  \\\n",
            "count  10.000000      10.000000   10.000000        10.000000   10.000000   \n",
            "mean   52.500000     102.500000  137.000000       285.000000    6.600000   \n",
            "std    16.201852      15.138252   11.352924        30.276504    3.627059   \n",
            "min    30.000000      80.000000  120.000000       240.000000    0.000000   \n",
            "25%    45.000000      91.250000  130.000000       262.500000    7.000000   \n",
            "50%    52.500000     102.500000  140.000000       285.000000    8.000000   \n",
            "75%    60.000000     113.750000  145.000000       307.500000    8.000000   \n",
            "max    75.000000     125.000000  150.000000       330.000000   10.000000   \n",
            "\n",
            "       Hours_Sleep  \n",
            "count    10.000000  \n",
            "mean      7.500000  \n",
            "std       0.527046  \n",
            "min       7.000000  \n",
            "25%       7.000000  \n",
            "50%       7.500000  \n",
            "75%       8.000000  \n",
            "max       8.000000  \n"
          ]
        }
      ]
    },
    {
      "cell_type": "code",
      "source": [
        "import numpy as np"
      ],
      "metadata": {
        "id": "Y_X7BjKR5eAe"
      },
      "execution_count": 13,
      "outputs": []
    },
    {
      "cell_type": "code",
      "source": [
        "max_pulse=health_data[\"Max_Pulse\"]"
      ],
      "metadata": {
        "id": "zPlIyQzE4_zW"
      },
      "execution_count": 11,
      "outputs": []
    },
    {
      "cell_type": "code",
      "source": [
        "percentile10=np.percentile(max_pulse,10)"
      ],
      "metadata": {
        "id": "L1lJB6uh5Qe-"
      },
      "execution_count": 14,
      "outputs": []
    },
    {
      "cell_type": "code",
      "source": [
        "print(percentile10)"
      ],
      "metadata": {
        "colab": {
          "base_uri": "https://localhost:8080/"
        },
        "id": "QVOy3qUH5YDR",
        "outputId": "ae0093c0-94ef-4a77-c143-0bda48db1240"
      },
      "execution_count": 15,
      "outputs": [
        {
          "output_type": "stream",
          "name": "stdout",
          "text": [
            "120.0\n"
          ]
        }
      ]
    },
    {
      "cell_type": "code",
      "source": [
        "import pandas as pd"
      ],
      "metadata": {
        "id": "NnRSNqVS6olU"
      },
      "execution_count": 21,
      "outputs": []
    },
    {
      "cell_type": "code",
      "source": [
        "import numpy as np"
      ],
      "metadata": {
        "id": "27Yz882-6sTh"
      },
      "execution_count": 22,
      "outputs": []
    },
    {
      "cell_type": "code",
      "source": [
        "std= np.std(health_data)"
      ],
      "metadata": {
        "colab": {
          "base_uri": "https://localhost:8080/"
        },
        "outputId": "f975856d-5b7d-4398-bf9d-7f2ea786cadb",
        "id": "G3EwR5a763Hc"
      },
      "execution_count": 30,
      "outputs": [
        {
          "output_type": "stream",
          "name": "stderr",
          "text": [
            "/usr/local/lib/python3.10/dist-packages/numpy/core/fromnumeric.py:3643: FutureWarning: The behavior of DataFrame.std with axis=None is deprecated, in a future version this will reduce over both axes and return a scalar. To retain the old behavior, pass axis=0 (or do not pass axis)\n",
            "  return std(axis=axis, dtype=dtype, out=out, ddof=ddof, **kwargs)\n"
          ]
        }
      ]
    },
    {
      "cell_type": "code",
      "source": [
        "print(std)"
      ],
      "metadata": {
        "colab": {
          "base_uri": "https://localhost:8080/"
        },
        "id": "tfsP31OY6bFC",
        "outputId": "8831e6d3-f37e-4b0c-9344-7e4f01c596ed"
      },
      "execution_count": 31,
      "outputs": [
        {
          "output_type": "stream",
          "name": "stdout",
          "text": [
            "Duration           15.370426\n",
            "Average_Pulse      14.361407\n",
            "Max_Pulse          10.770330\n",
            "Calorie_Burnage    28.722813\n",
            "Hours_Work          3.440930\n",
            "Hours_Sleep         0.500000\n",
            "dtype: float64\n"
          ]
        }
      ]
    },
    {
      "cell_type": "code",
      "source": [
        "import numpy as np"
      ],
      "metadata": {
        "id": "p2QrI0xe8jlg"
      },
      "execution_count": 32,
      "outputs": []
    },
    {
      "cell_type": "code",
      "source": [
        "cv=np.std(health_data)/np.mean(health_data)"
      ],
      "metadata": {
        "colab": {
          "base_uri": "https://localhost:8080/"
        },
        "id": "JotjBjGb8nzM",
        "outputId": "50707375-22fd-4402-d4e6-ed39f97e084e"
      },
      "execution_count": 33,
      "outputs": [
        {
          "output_type": "stream",
          "name": "stderr",
          "text": [
            "/usr/local/lib/python3.10/dist-packages/numpy/core/fromnumeric.py:3643: FutureWarning: The behavior of DataFrame.std with axis=None is deprecated, in a future version this will reduce over both axes and return a scalar. To retain the old behavior, pass axis=0 (or do not pass axis)\n",
            "  return std(axis=axis, dtype=dtype, out=out, ddof=ddof, **kwargs)\n"
          ]
        }
      ]
    },
    {
      "cell_type": "code",
      "source": [
        "print(cv)"
      ],
      "metadata": {
        "colab": {
          "base_uri": "https://localhost:8080/"
        },
        "id": "xIoiJiPF8sWz",
        "outputId": "a0cf0a22-76b0-4d65-d1ed-a653c27f7df5"
      },
      "execution_count": 34,
      "outputs": [
        {
          "output_type": "stream",
          "name": "stdout",
          "text": [
            "Duration           0.156019\n",
            "Average_Pulse      0.145776\n",
            "Max_Pulse          0.109325\n",
            "Calorie_Burnage    0.291553\n",
            "Hours_Work         0.034927\n",
            "Hours_Sleep        0.005075\n",
            "dtype: float64\n"
          ]
        }
      ]
    },
    {
      "cell_type": "code",
      "source": [
        "import numpy as np"
      ],
      "metadata": {
        "id": "3PPJiBAk9SWn"
      },
      "execution_count": 35,
      "outputs": []
    },
    {
      "cell_type": "code",
      "source": [
        "var=np.var(health_data)"
      ],
      "metadata": {
        "colab": {
          "base_uri": "https://localhost:8080/"
        },
        "id": "7CzbWLg99VEM",
        "outputId": "06c9d989-5aad-458f-b4c6-39a39040c4b0"
      },
      "execution_count": 36,
      "outputs": [
        {
          "output_type": "stream",
          "name": "stderr",
          "text": [
            "/usr/local/lib/python3.10/dist-packages/numpy/core/fromnumeric.py:3785: FutureWarning: The behavior of DataFrame.var with axis=None is deprecated, in a future version this will reduce over both axes and return a scalar. To retain the old behavior, pass axis=0 (or do not pass axis)\n",
            "  return var(axis=axis, dtype=dtype, out=out, ddof=ddof, **kwargs)\n"
          ]
        }
      ]
    },
    {
      "cell_type": "code",
      "source": [
        "print(var)"
      ],
      "metadata": {
        "colab": {
          "base_uri": "https://localhost:8080/"
        },
        "id": "uzjSSN389YyH",
        "outputId": "81afd377-9c3b-4ac2-8a3e-3fd4da42ae98"
      },
      "execution_count": 37,
      "outputs": [
        {
          "output_type": "stream",
          "name": "stdout",
          "text": [
            "Duration           236.25\n",
            "Average_Pulse      206.25\n",
            "Max_Pulse          116.00\n",
            "Calorie_Burnage    825.00\n",
            "Hours_Work          11.84\n",
            "Hours_Sleep          0.25\n",
            "dtype: float64\n"
          ]
        }
      ]
    },
    {
      "cell_type": "code",
      "source": [
        "import matplotlib.pyplot as plt"
      ],
      "metadata": {
        "id": "5ZVr5B4o-VQM"
      },
      "execution_count": 39,
      "outputs": []
    },
    {
      "cell_type": "code",
      "source": [
        "health_data.plot(x='Average_Pulse', y='Calorie_Burnage', kind='scatter')\n",
        "plt.show()"
      ],
      "metadata": {
        "colab": {
          "base_uri": "https://localhost:8080/",
          "height": 450
        },
        "id": "F9j8p8QA-X0q",
        "outputId": "980108fc-3496-4324-96ac-dadda6ee6c21"
      },
      "execution_count": 40,
      "outputs": [
        {
          "output_type": "display_data",
          "data": {
            "text/plain": [
              "<Figure size 640x480 with 1 Axes>"
            ],
            "image/png": "[encoded data removed]"
          },
          "metadata": {}
        }
      ]
    },
    {
      "cell_type": "code",
      "source": [
        "import pandas as pd"
      ],
      "metadata": {
        "id": "jaFTCUcA_yIy"
      },
      "execution_count": 41,
      "outputs": []
    },
    {
      "cell_type": "code",
      "source": [
        "import matplotlib.pyplot as plt"
      ],
      "metadata": {
        "id": "MF_rsMzo_4c8"
      },
      "execution_count": 42,
      "outputs": []
    },
    {
      "cell_type": "code",
      "source": [
        "negative_corr={'Hours_Work_Before_Training':[10,9,8,7,6,5,4,3,2,1],\n",
        "               'Calorie_Burnage':[220,240,260,280,300,320,340,360,380,400]}"
      ],
      "metadata": {
        "id": "_ZTVHXBI__Dl"
      },
      "execution_count": 43,
      "outputs": []
    },
    {
      "cell_type": "code",
      "source": [
        "negative_corr=pd.DataFrame(data=negative_corr)"
      ],
      "metadata": {
        "id": "-alJvnqTBLGC"
      },
      "execution_count": 44,
      "outputs": []
    },
    {
      "cell_type": "code",
      "source": [
        "negative_corr.plot(x='Hours_Work_Before_Training', y='Calorie_Burnage', kind='scatter')\n",
        "plt.show()"
      ],
      "metadata": {
        "colab": {
          "base_uri": "https://localhost:8080/",
          "height": 450
        },
        "id": "izcIVdp1BZRt",
        "outputId": "9f222de3-af93-49c1-edac-90b2c0c5cdf5"
      },
      "execution_count": 45,
      "outputs": [
        {
          "output_type": "display_data",
          "data": {
            "text/plain": [
              "<Figure size 640x480 with 1 Axes>"
            ],
            "image/png": "[encoded data removed]"
          },
          "metadata": {}
        }
      ]
    },
    {
      "cell_type": "code",
      "source": [
        "import matplotlib.pyplot as plt"
      ],
      "metadata": {
        "id": "EojOFH1bBt8z"
      },
      "execution_count": 46,
      "outputs": []
    },
    {
      "cell_type": "code",
      "source": [
        "import pandas as pd\n",
        "import matplotlib.pyplot as plt\n",
        "\n",
        "negative_corr = {'Hours_Work_Before_Training': [10,9,8,7,6,5,4,3,2,1],\n",
        "'Calorie_Burnage': [220,240,260,280,300,320,340,360,380,400]}\n",
        "negative_corr = pd.DataFrame(data=negative_corr)\n",
        "\n",
        "negative_corr.plot(x ='Hours_Work_Before_Training', y='Calorie_Burnage', kind='scatter')\n",
        "plt.show()"
      ],
      "metadata": {
        "colab": {
          "base_uri": "https://localhost:8080/",
          "height": 450
        },
        "id": "24w_TLqQBwq4",
        "outputId": "9ab7d77a-92ac-4537-f720-012ce540357c"
      },
      "execution_count": 48,
      "outputs": [
        {
          "output_type": "display_data",
          "data": {
            "text/plain": [
              "<Figure size 640x480 with 1 Axes>"
            ],
            "image/png": "[encoded data removed]"
          },
          "metadata": {}
        }
      ]
    },
    {
      "cell_type": "code",
      "source": [
        "import matplotlib.pyplot as plt\n",
        "\n",
        "health_data.plot(x ='Duration', y='Max_Pulse', kind='scatter')\n",
        "plt.show()"
      ],
      "metadata": {
        "colab": {
          "base_uri": "https://localhost:8080/",
          "height": 449
        },
        "id": "jTe_DJn8DTJL",
        "outputId": "c4ab231f-5436-4215-fcc6-95b777245982"
      },
      "execution_count": 50,
      "outputs": [
        {
          "output_type": "display_data",
          "data": {
            "text/plain": [
              "<Figure size 640x480 with 1 Axes>"
            ],
            "image/png": "[encoded data removed]"
          },
          "metadata": {}
        }
      ]
    }
  ]
}